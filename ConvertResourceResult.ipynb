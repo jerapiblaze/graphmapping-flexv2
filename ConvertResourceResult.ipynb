{
 "cells": [
  {
   "cell_type": "code",
   "execution_count": null,
   "metadata": {},
   "outputs": [],
   "source": [
    "NET_KEYS = [\"ABI\", \"ATL\", \"POL\"]\n",
    "NET_LABELS = [r'\\textsc{Abilene}', r'\\textsc{Atlanta}', r'\\textsc{Polska}']\n",
    "\n",
    "SETTING_KEYS = [\"C1\", \"C3\", \"C13\"]\n",
    "SETTING_LABELS = [r'$k_1$-only', r'$k_2$-only', r'flexible']\n",
    "\n",
    "# SOLVER_KEYS = [\"GREEDY\", \"ILP_GUROBI\"]\n",
    "# SOLVER_LABELS = [r'\\texttt{CLC}-\\texttt{SE}', r'\\texttt{ILP}-\\texttt{SE}']\n",
    "\n",
    "SOLVER_KEYS = [\"ILP_GUROBI\", \"GREEDY\"]\n",
    "SOLVER_LABELS = [r'\\texttt{ILP}-\\texttt{SE}', r'\\texttt{CLC}-\\texttt{SE}']\n",
    "\n",
    "CONFIG_KEYS = [\"type1\", \"type3\"]\n",
    "CONFIG_LABELS = [r'$k_1$', r'$k_2$']"
   ]
  },
  {
   "cell_type": "code",
   "execution_count": null,
   "metadata": {},
   "outputs": [],
   "source": [
    "import numpy as np\n",
    "import pandas as pd"
   ]
  },
  {
   "cell_type": "code",
   "execution_count": null,
   "metadata": {},
   "outputs": [],
   "source": [
    "df = pd.read_csv(\"./data/results/resources_20240815_220951.csv\")\n",
    "\n",
    "df.head()"
   ]
  },
  {
   "cell_type": "code",
   "execution_count": null,
   "metadata": {},
   "outputs": [],
   "source": [
    "SETNAME_GROUPS = df.groupby(\"setname\").groups\n",
    "SOLVERNAME_GROUPS = df.groupby(\"solvername\").groups\n",
    "slicecount=10"
   ]
  },
  {
   "cell_type": "code",
   "execution_count": 37,
   "metadata": {},
   "outputs": [
    {
     "name": "stdout",
     "output_type": "stream",
     "text": [
      "$k_1$-only & ${2.79}{\\scriptstyle\\pm0.81}$ & ${2.80}{\\scriptstyle\\pm0.78}$ & ${3.54}{\\scriptstyle\\pm1.23}$ & ${4.44}{\\scriptstyle\\pm1.57}$ & ${3.64}{\\scriptstyle\\pm0.96}$ & ${3.33}{\\scriptstyle\\pm0.00}$ \\tabularnewline\n",
      "$k_2$-only & ${3.47}{\\scriptstyle\\pm0.89}$ & ${2.44}{\\scriptstyle\\pm0.35}$ & ${2.91}{\\scriptstyle\\pm0.72}$ & ${6.59}{\\scriptstyle\\pm1.20}$ & ${3.37}{\\scriptstyle\\pm0.58}$ & ${6.59}{\\scriptstyle\\pm1.20}$ \\tabularnewline\n",
      "flexible & ${2.63}{\\scriptstyle\\pm0.74}$ & ${2.35}{\\scriptstyle\\pm0.42}$ & ${2.75}{\\scriptstyle\\pm0.75}$ & ${4.44}{\\scriptstyle\\pm1.57}$ & ${2.92}{\\scriptstyle\\pm0.75}$ & ${3.33}{\\scriptstyle\\pm0.00}$ \\tabularnewline\n"
     ]
    }
   ],
   "source": [
    "lines = list()\n",
    "for setting_key_ind in range(len(SETTING_KEYS)):\n",
    "    setting_key = SETTING_KEYS[setting_key_ind]\n",
    "    values = [SETTING_LABELS[setting_key_ind],]\n",
    "    for solver_key_ind in range(len(SOLVER_KEYS)):\n",
    "        solver_key = SOLVER_KEYS[solver_key_ind]\n",
    "        \n",
    "        for net_key_ind in range(len(NET_KEYS)):\n",
    "            net_key = NET_KEYS[net_key_ind]\n",
    "                \n",
    "            setname = f\"{setting_key}_{net_key}_{slicecount}\"\n",
    "            \n",
    "            setname_ind = SETNAME_GROUPS[setname]\n",
    "            solvername_ind = SOLVERNAME_GROUPS[solver_key]\n",
    "            \n",
    "            loc = [i for i in setname_ind if i in solvername_ind]\n",
    "        \n",
    "            if not len(loc) == 1:\n",
    "                continue\n",
    "            \n",
    "            loc = loc[0]\n",
    "            data = df.loc[loc]\n",
    "            \n",
    "            cpu_mean, cpu_std = data[\"cpu_mean\"], data[\"cpu_std\"]\n",
    "            mem_mean, mem_std = data[\"mem_mean\"], data[\"mem_std\"]\n",
    "            sto_mean, sto_std = data[\"sto_mean\"], data[\"sto_std\"]\n",
    "            bw_mean, bw_std = data[\"bw_mean\"], data[\"bw_std\"]\n",
    "            \n",
    "            # values.extend([cpu_mean, cpu_std])\n",
    "            values.extend([bw_mean, bw_std])\n",
    "            \n",
    "    line = \"{} & ${{{:.2f}}}{{\\scriptstyle\\pm{:.2f}}}$ & ${{{:.2f}}}{{\\scriptstyle\\pm{:.2f}}}$ & ${{{:.2f}}}{{\\scriptstyle\\pm{:.2f}}}$ & ${{{:.2f}}}{{\\scriptstyle\\pm{:.2f}}}$ & ${{{:.2f}}}{{\\scriptstyle\\pm{:.2f}}}$ & ${{{:.2f}}}{{\\scriptstyle\\pm{:.2f}}}$ \\\\tabularnewline\".format(*values)\n",
    "    print(line)"
   ]
  }
 ],
 "metadata": {
  "kernelspec": {
   "display_name": "graphmapping-pfp",
   "language": "python",
   "name": "python3"
  },
  "language_info": {
   "codemirror_mode": {
    "name": "ipython",
    "version": 3
   },
   "file_extension": ".py",
   "mimetype": "text/x-python",
   "name": "python",
   "nbconvert_exporter": "python",
   "pygments_lexer": "ipython3",
   "version": "3.10.14"
  }
 },
 "nbformat": 4,
 "nbformat_minor": 2
}
